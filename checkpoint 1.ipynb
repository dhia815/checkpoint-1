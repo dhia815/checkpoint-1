{
 "cells": [
  {
   "cell_type": "code",
   "execution_count": null,
   "id": "b131e1c6",
   "metadata": {},
   "outputs": [],
   "source": [
    "# Question 1\n",
    "first_name = input(\"first name : \")\n",
    "last_name = input(\"last name : \")\n",
    "print (last_name + \" \" + first_name)"
   ]
  },
  {
   "cell_type": "code",
   "execution_count": null,
   "id": "dd706d1d",
   "metadata": {},
   "outputs": [],
   "source": [
    "# Question 2\n",
    "n = int(input(\"n = \"))\n",
    "nn = int(str(n)+str(n))\n",
    "nnn = int(str(n)+str(n)+str(n))\n",
    "print(\"n + nn + nnn = \"+ str(n + nn + nnn))"
   ]
  },
  {
   "cell_type": "code",
   "execution_count": null,
   "id": "0b2e060a",
   "metadata": {},
   "outputs": [],
   "source": [
    "# Question 3\n",
    "number = int(input(\"Please write a number to know if it's even or odd : \"))\n",
    "if number % 2 == 0:\n",
    "    print (\"The number \" + str(number) + \" is even\")\n",
    "else:\n",
    "    print (\"The number \" + str(number) + \" is odd\")"
   ]
  },
  {
   "cell_type": "code",
   "execution_count": null,
   "id": "4a02b102",
   "metadata": {},
   "outputs": [],
   "source": [
    "# Question 4\n",
    "result = \"\"\n",
    "for n in range (2000, 3201):\n",
    "    if n % 7 == 0 and n % 5 != 0 :\n",
    "        result += str(n) + \", \"\n",
    "print(\"numbers which are divisible by 7 but are not multiples of 5 between 2000 and 3200 are : \"+ result)"
   ]
  },
  {
   "cell_type": "code",
   "execution_count": null,
   "id": "e9f2c970",
   "metadata": {},
   "outputs": [],
   "source": [
    "# Question 5\n",
    "n = int(input(\"Please write a number so that the program can compute the factorial of it : \"))\n",
    "i = 1\n",
    "result = 1\n",
    "while i <= n :\n",
    "    result *= i\n",
    "    i += 1\n",
    "print(str(n) + \"! = \" + str(result))"
   ]
  },
  {
   "cell_type": "code",
   "execution_count": null,
   "id": "0086fe29",
   "metadata": {},
   "outputs": [],
   "source": [
    "# Question 6\n",
    "text = input(\"Please write some text so that the program can remove the characters which have odd index values : \")\n",
    "result = \"\"\n",
    "for i in range (0,len(text),2):\n",
    "    result = result + text [i]\n",
    "print(result)"
   ]
  },
  {
   "cell_type": "code",
   "execution_count": null,
   "id": "90ba6a4d",
   "metadata": {},
   "outputs": [],
   "source": [
    "# Question 7\n",
    "price = int(input(\"Please provide us with the item's price in order to provide you with its new price after discount : \"))\n",
    "price_after_discount = 0\n",
    "if price >= 500 :\n",
    "    price_after_discount = price / 2\n",
    "    print(\"the price of the item after 50% discount is \" + str(price_after_discount))\n",
    "elif price >= 200 and  price < 500:\n",
    "    price_after_discount = (price * 70) / 100\n",
    "    print(\"the price of the item after 30% discount is \" + str(price_after_discount))\n",
    "elif price > 0 and  price < 200:\n",
    "    price_after_discount = (price * 90) / 100\n",
    "    print(\"the price of the item after 10% discount is \" + str(price_after_discount))\n",
    "else :\n",
    "    print(\"Don't write a negative number \")"
   ]
  },
  {
   "cell_type": "code",
   "execution_count": null,
   "id": "40cc1e0a",
   "metadata": {},
   "outputs": [],
   "source": []
  }
 ],
 "metadata": {
  "kernelspec": {
   "display_name": "Python 3",
   "language": "python",
   "name": "python3"
  },
  "language_info": {
   "codemirror_mode": {
    "name": "ipython",
    "version": 3
   },
   "file_extension": ".py",
   "mimetype": "text/x-python",
   "name": "python",
   "nbconvert_exporter": "python",
   "pygments_lexer": "ipython3",
   "version": "3.8.8"
  }
 },
 "nbformat": 4,
 "nbformat_minor": 5
}
